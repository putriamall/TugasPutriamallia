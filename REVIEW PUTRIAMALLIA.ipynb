{
 "cells": [
  {
   "cell_type": "code",
   "execution_count": 9,
   "id": "609dae1f",
   "metadata": {},
   "outputs": [
    {
     "name": "stdout",
     "output_type": "stream",
     "text": [
      "          *\n",
      "         * *\n",
      "        *   *\n",
      "       *     *\n",
      "      *       *\n",
      "     *         *\n",
      "    *           *\n",
      "   *             *\n",
      "  *               *\n",
      " *                 *\n",
      "* * * * * * * * * * * "
     ]
    }
   ],
   "source": [
    "bantu=0\n",
    "kosong=0\n",
    "for i in reversed(range(10)):\n",
    "    for j in range(i+1):\n",
    "        print(' ', end='')\n",
    "    for k in range(bantu+1):\n",
    "        if k==0:\n",
    "            print('*', end='')\n",
    "        else:\n",
    "            print(' ', end='')\n",
    "    for l in range(bantu):\n",
    "        if l==kosong:\n",
    "            print('*', end='')\n",
    "            kosong+=1\n",
    "        else:\n",
    "            print(' ', end='')\n",
    "    bantu+=1\n",
    "    print()\n",
    "for i in range(11):\n",
    "    print('* ', end='')\n"
   ]
  },
  {
   "cell_type": "code",
   "execution_count": null,
   "id": "bdae4917",
   "metadata": {},
   "outputs": [],
   "source": []
  }
 ],
 "metadata": {
  "kernelspec": {
   "display_name": "Python 3",
   "language": "python",
   "name": "python3"
  },
  "language_info": {
   "codemirror_mode": {
    "name": "ipython",
    "version": 3
   },
   "file_extension": ".py",
   "mimetype": "text/x-python",
   "name": "python",
   "nbconvert_exporter": "python",
   "pygments_lexer": "ipython3",
   "version": "3.8.8"
  }
 },
 "nbformat": 4,
 "nbformat_minor": 5
}
