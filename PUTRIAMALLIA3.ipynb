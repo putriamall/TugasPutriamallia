{
 "cells": [
  {
   "cell_type": "code",
   "execution_count": 50,
   "id": "35ad3a5a",
   "metadata": {},
   "outputs": [
    {
     "name": "stdout",
     "output_type": "stream",
     "text": [
      "Bilangan Genap : \n",
      "[2, 4, 6, 8, 10]\n",
      "Bilangan Ganjil : \n",
      "[1, 3, 5, 7, 9]\n"
     ]
    }
   ],
   "source": [
    "list_bil = [1, 2, 3, 4, 5, 6, 7, 8, 9, 10]\n",
    "bil_genap =[]\n",
    "bil_ganjil =[]\n",
    "for bil in list_bil:\n",
    "    if bil % 2 == 0:\n",
    "        bil_genap.append(bil)\n",
    "    else:\n",
    "        bil_ganjil.append(bil)\n",
    "        \n",
    "print('Bilangan Genap : ')\n",
    "print (list(bil_genap))\n",
    "print('Bilangan Ganjil : ')\n",
    "print (list(bil_ganjil))\n",
    "\n"
   ]
  },
  {
   "cell_type": "code",
   "execution_count": 51,
   "id": "49cf7a97",
   "metadata": {},
   "outputs": [
    {
     "name": "stdout",
     "output_type": "stream",
     "text": [
      "[6, 6, 10, 16]\n"
     ]
    }
   ],
   "source": [
    "def addition(a,b):\n",
    "    return a + b\n",
    "no1 = [6, 5, 3, 9]\n",
    "no2 = [0, 1, 7, 7]\n",
    "result = map(addition, no1, no2)\n",
    "\n",
    "print(list(result))"
   ]
  },
  {
   "cell_type": "code",
   "execution_count": 52,
   "id": "539aa12a",
   "metadata": {},
   "outputs": [
    {
     "name": "stdout",
     "output_type": "stream",
     "text": [
      "20\n"
     ]
    }
   ],
   "source": [
    "bilangan = [8, 2, 3, 0, 7]\n",
    "print(sum(bilangan))"
   ]
  },
  {
   "cell_type": "code",
   "execution_count": null,
   "id": "76764d43",
   "metadata": {},
   "outputs": [],
   "source": []
  }
 ],
 "metadata": {
  "kernelspec": {
   "display_name": "Python 3",
   "language": "python",
   "name": "python3"
  },
  "language_info": {
   "codemirror_mode": {
    "name": "ipython",
    "version": 3
   },
   "file_extension": ".py",
   "mimetype": "text/x-python",
   "name": "python",
   "nbconvert_exporter": "python",
   "pygments_lexer": "ipython3",
   "version": "3.8.8"
  }
 },
 "nbformat": 4,
 "nbformat_minor": 5
}
