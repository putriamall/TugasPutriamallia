{
 "cells": [
  {
   "cell_type": "code",
   "execution_count": 11,
   "id": "882b776d",
   "metadata": {},
   "outputs": [],
   "source": [
    "import pandas as pd\n",
    "import numpy as np\n",
    "import matplotlib.pyplot as plt\n",
    "import time\n",
    "from sklearn.model_selection import train_test_split\n",
    "from sklearn.naive_bayes import GaussianNB\n"
   ]
  },
  {
   "cell_type": "code",
   "execution_count": 14,
   "id": "de89ea54",
   "metadata": {},
   "outputs": [
    {
     "name": "stdout",
     "output_type": "stream",
     "text": [
      "                                               Name PClass    Age     Sex  \\\n",
      "0                      Allen, Miss Elisabeth Walton    1st  29.00  female   \n",
      "1                       Allison, Miss Helen Loraine    1st   2.00  female   \n",
      "2               Allison, Mr Hudson Joshua Creighton    1st  30.00    male   \n",
      "3     Allison, Mrs Hudson JC (Bessie Waldo Daniels)    1st  25.00  female   \n",
      "4                     Allison, Master Hudson Trevor    1st   0.92    male   \n",
      "...                                             ...    ...    ...     ...   \n",
      "1308                             Zakarian, Mr Artun    3rd  27.00    male   \n",
      "1309                         Zakarian, Mr Maprieder    3rd  26.00    male   \n",
      "1310                               Zenni, Mr Philip    3rd  22.00    male   \n",
      "1311                               Lievens, Mr Rene    3rd  24.00    male   \n",
      "1312                                 Zimmerman, Leo    3rd  29.00    male   \n",
      "\n",
      "      Survived  Sex_cleaned  \n",
      "0            1            1  \n",
      "1            0            1  \n",
      "2            0            0  \n",
      "3            0            1  \n",
      "4            1            0  \n",
      "...        ...          ...  \n",
      "1308         0            0  \n",
      "1309         0            0  \n",
      "1310         0            0  \n",
      "1311         0            0  \n",
      "1312         0            0  \n",
      "\n",
      "[1313 rows x 6 columns]\n"
     ]
    }
   ],
   "source": [
    "file = open(\"Titanic.csv\")\n",
    "data = pd.read_csv(\"Titanic.csv\")\n",
    "\n",
    "# Convert categorical variable to numeric\n",
    "data[\"Sex_cleaned\"]=np.where(data[\"Sex\"]==\"male\",0,1)\n",
    "print (data)"
   ]
  },
  {
   "cell_type": "code",
   "execution_count": 15,
   "id": "20bcb36c",
   "metadata": {},
   "outputs": [
    {
     "data": {
      "text/plain": [
       "array([[ 0.,  4.],\n",
       "       [ 1., 54.],\n",
       "       [ 0., 22.],\n",
       "       ...,\n",
       "       [ 0., 24.],\n",
       "       [ 0., 30.],\n",
       "       [ 0., 48.]])"
      ]
     },
     "execution_count": 15,
     "metadata": {},
     "output_type": "execute_result"
    }
   ],
   "source": [
    "# Cleaning dataset of NaN\n",
    "data=data[[\n",
    "    \"Survived\",\n",
    "    \"Sex_cleaned\",\n",
    "    \"Age\"\n",
    "]].dropna(axis=0, how='any')\n",
    "\n",
    "used_features =[\n",
    "    \"Sex_cleaned\",\n",
    "    \"Age\"\n",
    "]\n",
    "\n",
    "X = data[used_features].values\n",
    "y = data[\"Survived\"]\n",
    "\n",
    "from sklearn.model_selection import train_test_split\n",
    "\n",
    "X_train, X_test, y_train, y_test = train_test_split(X, y, test_size=0.33, random_state=42)\n",
    "\n",
    "\n",
    "X_train"
   ]
  },
  {
   "cell_type": "code",
   "execution_count": null,
   "id": "cc6035e6",
   "metadata": {},
   "outputs": [],
   "source": []
  }
 ],
 "metadata": {
  "kernelspec": {
   "display_name": "Python 3",
   "language": "python",
   "name": "python3"
  },
  "language_info": {
   "codemirror_mode": {
    "name": "ipython",
    "version": 3
   },
   "file_extension": ".py",
   "mimetype": "text/x-python",
   "name": "python",
   "nbconvert_exporter": "python",
   "pygments_lexer": "ipython3",
   "version": "3.8.8"
  }
 },
 "nbformat": 4,
 "nbformat_minor": 5
}
