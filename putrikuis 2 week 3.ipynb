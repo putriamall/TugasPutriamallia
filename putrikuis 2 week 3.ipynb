{
 "cells": [
  {
   "cell_type": "code",
   "execution_count": 5,
   "id": "351c9e86",
   "metadata": {},
   "outputs": [],
   "source": [
    "import pandas as pd\n",
    "import numpy as np\n",
    "from datetime import datetime\n",
    "import matplotlib.pyplot as plt\n",
    "\n",
    "Customer = pd.read_csv( 'Customer.csv')\n",
    "Prod = pd.read_csv( 'prod_cat_info.csv')\n",
    "Transactions = pd.read_csv( 'Transactions.csv')"
   ]
  },
  {
   "cell_type": "code",
   "execution_count": 7,
   "id": "9e9b1fda",
   "metadata": {},
   "outputs": [
    {
     "data": {
      "text/html": [
       "<div>\n",
       "<style scoped>\n",
       "    .dataframe tbody tr th:only-of-type {\n",
       "        vertical-align: middle;\n",
       "    }\n",
       "\n",
       "    .dataframe tbody tr th {\n",
       "        vertical-align: top;\n",
       "    }\n",
       "\n",
       "    .dataframe thead th {\n",
       "        text-align: right;\n",
       "    }\n",
       "</style>\n",
       "<table border=\"1\" class=\"dataframe\">\n",
       "  <thead>\n",
       "    <tr style=\"text-align: right;\">\n",
       "      <th></th>\n",
       "      <th>customer_Id</th>\n",
       "      <th>DOB</th>\n",
       "      <th>Gender</th>\n",
       "      <th>city_code</th>\n",
       "    </tr>\n",
       "  </thead>\n",
       "  <tbody>\n",
       "    <tr>\n",
       "      <th>0</th>\n",
       "      <td>268408</td>\n",
       "      <td>02-01-1970</td>\n",
       "      <td>M</td>\n",
       "      <td>4.0</td>\n",
       "    </tr>\n",
       "    <tr>\n",
       "      <th>1</th>\n",
       "      <td>269696</td>\n",
       "      <td>07-01-1970</td>\n",
       "      <td>F</td>\n",
       "      <td>8.0</td>\n",
       "    </tr>\n",
       "    <tr>\n",
       "      <th>2</th>\n",
       "      <td>268159</td>\n",
       "      <td>08-01-1970</td>\n",
       "      <td>F</td>\n",
       "      <td>8.0</td>\n",
       "    </tr>\n",
       "    <tr>\n",
       "      <th>3</th>\n",
       "      <td>270181</td>\n",
       "      <td>10-01-1970</td>\n",
       "      <td>F</td>\n",
       "      <td>2.0</td>\n",
       "    </tr>\n",
       "    <tr>\n",
       "      <th>4</th>\n",
       "      <td>268073</td>\n",
       "      <td>11-01-1970</td>\n",
       "      <td>M</td>\n",
       "      <td>1.0</td>\n",
       "    </tr>\n",
       "    <tr>\n",
       "      <th>...</th>\n",
       "      <td>...</td>\n",
       "      <td>...</td>\n",
       "      <td>...</td>\n",
       "      <td>...</td>\n",
       "    </tr>\n",
       "    <tr>\n",
       "      <th>5642</th>\n",
       "      <td>274474</td>\n",
       "      <td>19-12-1992</td>\n",
       "      <td>M</td>\n",
       "      <td>2.0</td>\n",
       "    </tr>\n",
       "    <tr>\n",
       "      <th>5643</th>\n",
       "      <td>267666</td>\n",
       "      <td>24-12-1992</td>\n",
       "      <td>M</td>\n",
       "      <td>6.0</td>\n",
       "    </tr>\n",
       "    <tr>\n",
       "      <th>5644</th>\n",
       "      <td>270476</td>\n",
       "      <td>25-12-1992</td>\n",
       "      <td>F</td>\n",
       "      <td>3.0</td>\n",
       "    </tr>\n",
       "    <tr>\n",
       "      <th>5645</th>\n",
       "      <td>269626</td>\n",
       "      <td>27-12-1992</td>\n",
       "      <td>F</td>\n",
       "      <td>5.0</td>\n",
       "    </tr>\n",
       "    <tr>\n",
       "      <th>5646</th>\n",
       "      <td>274308</td>\n",
       "      <td>29-12-1992</td>\n",
       "      <td>F</td>\n",
       "      <td>5.0</td>\n",
       "    </tr>\n",
       "  </tbody>\n",
       "</table>\n",
       "<p>5647 rows × 4 columns</p>\n",
       "</div>"
      ],
      "text/plain": [
       "      customer_Id         DOB Gender  city_code\n",
       "0          268408  02-01-1970      M        4.0\n",
       "1          269696  07-01-1970      F        8.0\n",
       "2          268159  08-01-1970      F        8.0\n",
       "3          270181  10-01-1970      F        2.0\n",
       "4          268073  11-01-1970      M        1.0\n",
       "...           ...         ...    ...        ...\n",
       "5642       274474  19-12-1992      M        2.0\n",
       "5643       267666  24-12-1992      M        6.0\n",
       "5644       270476  25-12-1992      F        3.0\n",
       "5645       269626  27-12-1992      F        5.0\n",
       "5646       274308  29-12-1992      F        5.0\n",
       "\n",
       "[5647 rows x 4 columns]"
      ]
     },
     "execution_count": 7,
     "metadata": {},
     "output_type": "execute_result"
    }
   ],
   "source": [
    "Customer"
   ]
  },
  {
   "cell_type": "markdown",
   "id": "5954adf5",
   "metadata": {},
   "source": [
    "# soal no 1"
   ]
  },
  {
   "cell_type": "code",
   "execution_count": 8,
   "id": "c0e2dc5a",
   "metadata": {},
   "outputs": [],
   "source": [
    "transaction_customer = pd.merge(Transactions,Customer,left_on='cust_id',right_on='customer_Id')\n",
    "transaction_customer_prod = pd.merge(transaction_customer,Prod,left_on=['prod_subcat_code','prod_cat_code'] ,right_on=['prod_cat_code', 'prod_cat_code'])"
   ]
  },
  {
   "cell_type": "code",
   "execution_count": 9,
   "id": "f62f7229",
   "metadata": {},
   "outputs": [
    {
     "data": {
      "text/html": [
       "<div>\n",
       "<style scoped>\n",
       "    .dataframe tbody tr th:only-of-type {\n",
       "        vertical-align: middle;\n",
       "    }\n",
       "\n",
       "    .dataframe tbody tr th {\n",
       "        vertical-align: top;\n",
       "    }\n",
       "\n",
       "    .dataframe thead th {\n",
       "        text-align: right;\n",
       "    }\n",
       "</style>\n",
       "<table border=\"1\" class=\"dataframe\">\n",
       "  <thead>\n",
       "    <tr style=\"text-align: right;\">\n",
       "      <th></th>\n",
       "      <th>transaction_id</th>\n",
       "      <th>cust_id</th>\n",
       "      <th>tran_date</th>\n",
       "      <th>prod_subcat_code</th>\n",
       "      <th>prod_cat_code</th>\n",
       "      <th>Qty</th>\n",
       "      <th>Rate</th>\n",
       "      <th>Tax</th>\n",
       "      <th>total_amt</th>\n",
       "      <th>Store_type</th>\n",
       "      <th>customer_Id</th>\n",
       "      <th>DOB</th>\n",
       "      <th>Gender</th>\n",
       "      <th>city_code</th>\n",
       "      <th>prod_cat</th>\n",
       "      <th>prod_sub_cat_code</th>\n",
       "      <th>prod_subcat</th>\n",
       "    </tr>\n",
       "  </thead>\n",
       "  <tbody>\n",
       "    <tr>\n",
       "      <th>0</th>\n",
       "      <td>80712190438</td>\n",
       "      <td>270351</td>\n",
       "      <td>28-02-2014</td>\n",
       "      <td>1</td>\n",
       "      <td>1</td>\n",
       "      <td>-5</td>\n",
       "      <td>-772</td>\n",
       "      <td>405.30</td>\n",
       "      <td>-4265.30</td>\n",
       "      <td>e-Shop</td>\n",
       "      <td>270351</td>\n",
       "      <td>26-09-1981</td>\n",
       "      <td>M</td>\n",
       "      <td>5.0</td>\n",
       "      <td>Clothing</td>\n",
       "      <td>4</td>\n",
       "      <td>Mens</td>\n",
       "    </tr>\n",
       "    <tr>\n",
       "      <th>1</th>\n",
       "      <td>80712190438</td>\n",
       "      <td>270351</td>\n",
       "      <td>28-02-2014</td>\n",
       "      <td>1</td>\n",
       "      <td>1</td>\n",
       "      <td>-5</td>\n",
       "      <td>-772</td>\n",
       "      <td>405.30</td>\n",
       "      <td>-4265.30</td>\n",
       "      <td>e-Shop</td>\n",
       "      <td>270351</td>\n",
       "      <td>26-09-1981</td>\n",
       "      <td>M</td>\n",
       "      <td>5.0</td>\n",
       "      <td>Clothing</td>\n",
       "      <td>1</td>\n",
       "      <td>Women</td>\n",
       "    </tr>\n",
       "    <tr>\n",
       "      <th>2</th>\n",
       "      <td>80712190438</td>\n",
       "      <td>270351</td>\n",
       "      <td>28-02-2014</td>\n",
       "      <td>1</td>\n",
       "      <td>1</td>\n",
       "      <td>-5</td>\n",
       "      <td>-772</td>\n",
       "      <td>405.30</td>\n",
       "      <td>-4265.30</td>\n",
       "      <td>e-Shop</td>\n",
       "      <td>270351</td>\n",
       "      <td>26-09-1981</td>\n",
       "      <td>M</td>\n",
       "      <td>5.0</td>\n",
       "      <td>Clothing</td>\n",
       "      <td>3</td>\n",
       "      <td>Kids</td>\n",
       "    </tr>\n",
       "    <tr>\n",
       "      <th>3</th>\n",
       "      <td>80712190438</td>\n",
       "      <td>270351</td>\n",
       "      <td>20-02-2014</td>\n",
       "      <td>1</td>\n",
       "      <td>1</td>\n",
       "      <td>5</td>\n",
       "      <td>772</td>\n",
       "      <td>405.30</td>\n",
       "      <td>4265.30</td>\n",
       "      <td>e-Shop</td>\n",
       "      <td>270351</td>\n",
       "      <td>26-09-1981</td>\n",
       "      <td>M</td>\n",
       "      <td>5.0</td>\n",
       "      <td>Clothing</td>\n",
       "      <td>4</td>\n",
       "      <td>Mens</td>\n",
       "    </tr>\n",
       "    <tr>\n",
       "      <th>4</th>\n",
       "      <td>80712190438</td>\n",
       "      <td>270351</td>\n",
       "      <td>20-02-2014</td>\n",
       "      <td>1</td>\n",
       "      <td>1</td>\n",
       "      <td>5</td>\n",
       "      <td>772</td>\n",
       "      <td>405.30</td>\n",
       "      <td>4265.30</td>\n",
       "      <td>e-Shop</td>\n",
       "      <td>270351</td>\n",
       "      <td>26-09-1981</td>\n",
       "      <td>M</td>\n",
       "      <td>5.0</td>\n",
       "      <td>Clothing</td>\n",
       "      <td>1</td>\n",
       "      <td>Women</td>\n",
       "    </tr>\n",
       "    <tr>\n",
       "      <th>...</th>\n",
       "      <td>...</td>\n",
       "      <td>...</td>\n",
       "      <td>...</td>\n",
       "      <td>...</td>\n",
       "      <td>...</td>\n",
       "      <td>...</td>\n",
       "      <td>...</td>\n",
       "      <td>...</td>\n",
       "      <td>...</td>\n",
       "      <td>...</td>\n",
       "      <td>...</td>\n",
       "      <td>...</td>\n",
       "      <td>...</td>\n",
       "      <td>...</td>\n",
       "      <td>...</td>\n",
       "      <td>...</td>\n",
       "      <td>...</td>\n",
       "    </tr>\n",
       "    <tr>\n",
       "      <th>5000</th>\n",
       "      <td>18727956164</td>\n",
       "      <td>267161</td>\n",
       "      <td>23-02-2011</td>\n",
       "      <td>4</td>\n",
       "      <td>4</td>\n",
       "      <td>5</td>\n",
       "      <td>668</td>\n",
       "      <td>350.70</td>\n",
       "      <td>3690.70</td>\n",
       "      <td>e-Shop</td>\n",
       "      <td>267161</td>\n",
       "      <td>08-05-1981</td>\n",
       "      <td>M</td>\n",
       "      <td>9.0</td>\n",
       "      <td>Bags</td>\n",
       "      <td>4</td>\n",
       "      <td>Women</td>\n",
       "    </tr>\n",
       "    <tr>\n",
       "      <th>5001</th>\n",
       "      <td>60416814232</td>\n",
       "      <td>273281</td>\n",
       "      <td>18-02-2011</td>\n",
       "      <td>4</td>\n",
       "      <td>4</td>\n",
       "      <td>4</td>\n",
       "      <td>202</td>\n",
       "      <td>84.84</td>\n",
       "      <td>892.84</td>\n",
       "      <td>Flagship store</td>\n",
       "      <td>273281</td>\n",
       "      <td>14-12-1988</td>\n",
       "      <td>F</td>\n",
       "      <td>9.0</td>\n",
       "      <td>Bags</td>\n",
       "      <td>1</td>\n",
       "      <td>Mens</td>\n",
       "    </tr>\n",
       "    <tr>\n",
       "      <th>5002</th>\n",
       "      <td>60416814232</td>\n",
       "      <td>273281</td>\n",
       "      <td>18-02-2011</td>\n",
       "      <td>4</td>\n",
       "      <td>4</td>\n",
       "      <td>4</td>\n",
       "      <td>202</td>\n",
       "      <td>84.84</td>\n",
       "      <td>892.84</td>\n",
       "      <td>Flagship store</td>\n",
       "      <td>273281</td>\n",
       "      <td>14-12-1988</td>\n",
       "      <td>F</td>\n",
       "      <td>9.0</td>\n",
       "      <td>Bags</td>\n",
       "      <td>4</td>\n",
       "      <td>Women</td>\n",
       "    </tr>\n",
       "    <tr>\n",
       "      <th>5003</th>\n",
       "      <td>83245680995</td>\n",
       "      <td>273723</td>\n",
       "      <td>26-01-2011</td>\n",
       "      <td>4</td>\n",
       "      <td>4</td>\n",
       "      <td>4</td>\n",
       "      <td>1477</td>\n",
       "      <td>620.34</td>\n",
       "      <td>6528.34</td>\n",
       "      <td>e-Shop</td>\n",
       "      <td>273723</td>\n",
       "      <td>21-01-1984</td>\n",
       "      <td>F</td>\n",
       "      <td>4.0</td>\n",
       "      <td>Bags</td>\n",
       "      <td>1</td>\n",
       "      <td>Mens</td>\n",
       "    </tr>\n",
       "    <tr>\n",
       "      <th>5004</th>\n",
       "      <td>83245680995</td>\n",
       "      <td>273723</td>\n",
       "      <td>26-01-2011</td>\n",
       "      <td>4</td>\n",
       "      <td>4</td>\n",
       "      <td>4</td>\n",
       "      <td>1477</td>\n",
       "      <td>620.34</td>\n",
       "      <td>6528.34</td>\n",
       "      <td>e-Shop</td>\n",
       "      <td>273723</td>\n",
       "      <td>21-01-1984</td>\n",
       "      <td>F</td>\n",
       "      <td>4.0</td>\n",
       "      <td>Bags</td>\n",
       "      <td>4</td>\n",
       "      <td>Women</td>\n",
       "    </tr>\n",
       "  </tbody>\n",
       "</table>\n",
       "<p>5005 rows × 17 columns</p>\n",
       "</div>"
      ],
      "text/plain": [
       "      transaction_id  cust_id   tran_date  prod_subcat_code  prod_cat_code  \\\n",
       "0        80712190438   270351  28-02-2014                 1              1   \n",
       "1        80712190438   270351  28-02-2014                 1              1   \n",
       "2        80712190438   270351  28-02-2014                 1              1   \n",
       "3        80712190438   270351  20-02-2014                 1              1   \n",
       "4        80712190438   270351  20-02-2014                 1              1   \n",
       "...              ...      ...         ...               ...            ...   \n",
       "5000     18727956164   267161  23-02-2011                 4              4   \n",
       "5001     60416814232   273281  18-02-2011                 4              4   \n",
       "5002     60416814232   273281  18-02-2011                 4              4   \n",
       "5003     83245680995   273723  26-01-2011                 4              4   \n",
       "5004     83245680995   273723  26-01-2011                 4              4   \n",
       "\n",
       "      Qty  Rate     Tax  total_amt      Store_type  customer_Id         DOB  \\\n",
       "0      -5  -772  405.30   -4265.30          e-Shop       270351  26-09-1981   \n",
       "1      -5  -772  405.30   -4265.30          e-Shop       270351  26-09-1981   \n",
       "2      -5  -772  405.30   -4265.30          e-Shop       270351  26-09-1981   \n",
       "3       5   772  405.30    4265.30          e-Shop       270351  26-09-1981   \n",
       "4       5   772  405.30    4265.30          e-Shop       270351  26-09-1981   \n",
       "...   ...   ...     ...        ...             ...          ...         ...   \n",
       "5000    5   668  350.70    3690.70          e-Shop       267161  08-05-1981   \n",
       "5001    4   202   84.84     892.84  Flagship store       273281  14-12-1988   \n",
       "5002    4   202   84.84     892.84  Flagship store       273281  14-12-1988   \n",
       "5003    4  1477  620.34    6528.34          e-Shop       273723  21-01-1984   \n",
       "5004    4  1477  620.34    6528.34          e-Shop       273723  21-01-1984   \n",
       "\n",
       "     Gender  city_code  prod_cat  prod_sub_cat_code prod_subcat  \n",
       "0         M        5.0  Clothing                  4        Mens  \n",
       "1         M        5.0  Clothing                  1       Women  \n",
       "2         M        5.0  Clothing                  3        Kids  \n",
       "3         M        5.0  Clothing                  4        Mens  \n",
       "4         M        5.0  Clothing                  1       Women  \n",
       "...     ...        ...       ...                ...         ...  \n",
       "5000      M        9.0      Bags                  4       Women  \n",
       "5001      F        9.0      Bags                  1        Mens  \n",
       "5002      F        9.0      Bags                  4       Women  \n",
       "5003      F        4.0      Bags                  1        Mens  \n",
       "5004      F        4.0      Bags                  4       Women  \n",
       "\n",
       "[5005 rows x 17 columns]"
      ]
     },
     "execution_count": 9,
     "metadata": {},
     "output_type": "execute_result"
    }
   ],
   "source": [
    "transaction_customer_prod"
   ]
  },
  {
   "cell_type": "markdown",
   "id": "88b5e9b4",
   "metadata": {},
   "source": [
    "jumlah data yang tersedia adalah 5005 data"
   ]
  },
  {
   "cell_type": "markdown",
   "id": "5893d0ca",
   "metadata": {},
   "source": [
    "# soal no 2"
   ]
  },
  {
   "cell_type": "code",
   "execution_count": 52,
   "id": "27c3e4e4",
   "metadata": {},
   "outputs": [
    {
     "data": {
      "text/html": [
       "<div>\n",
       "<style scoped>\n",
       "    .dataframe tbody tr th:only-of-type {\n",
       "        vertical-align: middle;\n",
       "    }\n",
       "\n",
       "    .dataframe tbody tr th {\n",
       "        vertical-align: top;\n",
       "    }\n",
       "\n",
       "    .dataframe thead th {\n",
       "        text-align: right;\n",
       "    }\n",
       "</style>\n",
       "<table border=\"1\" class=\"dataframe\">\n",
       "  <thead>\n",
       "    <tr style=\"text-align: right;\">\n",
       "      <th></th>\n",
       "      <th></th>\n",
       "      <th>Tax</th>\n",
       "      <th>cust_id</th>\n",
       "    </tr>\n",
       "    <tr>\n",
       "      <th>Store_type</th>\n",
       "      <th>tran_date</th>\n",
       "      <th></th>\n",
       "      <th></th>\n",
       "    </tr>\n",
       "  </thead>\n",
       "  <tbody>\n",
       "    <tr>\n",
       "      <th rowspan=\"5\" valign=\"top\">Flagship store</th>\n",
       "      <th>2011-01-02</th>\n",
       "      <td>169.386000</td>\n",
       "      <td>5</td>\n",
       "    </tr>\n",
       "    <tr>\n",
       "      <th>2011-01-03</th>\n",
       "      <td>137.497500</td>\n",
       "      <td>2</td>\n",
       "    </tr>\n",
       "    <tr>\n",
       "      <th>2011-01-04</th>\n",
       "      <td>173.040000</td>\n",
       "      <td>6</td>\n",
       "    </tr>\n",
       "    <tr>\n",
       "      <th>2011-01-05</th>\n",
       "      <td>93.835000</td>\n",
       "      <td>3</td>\n",
       "    </tr>\n",
       "    <tr>\n",
       "      <th>2011-01-06</th>\n",
       "      <td>150.535000</td>\n",
       "      <td>3</td>\n",
       "    </tr>\n",
       "    <tr>\n",
       "      <th>...</th>\n",
       "      <th>...</th>\n",
       "      <td>...</td>\n",
       "      <td>...</td>\n",
       "    </tr>\n",
       "    <tr>\n",
       "      <th rowspan=\"5\" valign=\"top\">e-Shop</th>\n",
       "      <th>2014-10-02</th>\n",
       "      <td>204.723750</td>\n",
       "      <td>8</td>\n",
       "    </tr>\n",
       "    <tr>\n",
       "      <th>2014-11-01</th>\n",
       "      <td>334.385625</td>\n",
       "      <td>8</td>\n",
       "    </tr>\n",
       "    <tr>\n",
       "      <th>2014-11-02</th>\n",
       "      <td>256.920000</td>\n",
       "      <td>7</td>\n",
       "    </tr>\n",
       "    <tr>\n",
       "      <th>2014-12-01</th>\n",
       "      <td>131.946818</td>\n",
       "      <td>11</td>\n",
       "    </tr>\n",
       "    <tr>\n",
       "      <th>2014-12-02</th>\n",
       "      <td>136.791667</td>\n",
       "      <td>9</td>\n",
       "    </tr>\n",
       "  </tbody>\n",
       "</table>\n",
       "<p>4431 rows × 2 columns</p>\n",
       "</div>"
      ],
      "text/plain": [
       "                                  Tax  cust_id\n",
       "Store_type     tran_date                      \n",
       "Flagship store 2011-01-02  169.386000        5\n",
       "               2011-01-03  137.497500        2\n",
       "               2011-01-04  173.040000        6\n",
       "               2011-01-05   93.835000        3\n",
       "               2011-01-06  150.535000        3\n",
       "...                               ...      ...\n",
       "e-Shop         2014-10-02  204.723750        8\n",
       "               2014-11-01  334.385625        8\n",
       "               2014-11-02  256.920000        7\n",
       "               2014-12-01  131.946818       11\n",
       "               2014-12-02  136.791667        9\n",
       "\n",
       "[4431 rows x 2 columns]"
      ]
     },
     "execution_count": 52,
     "metadata": {},
     "output_type": "execute_result"
    }
   ],
   "source": [
    "import pandas as pd\n",
    "import numpy as np\n",
    "df = pd.read_csv(\"Transactions.csv\", low_memory=False, parse_dates=[\"tran_date\"])\n",
    "df.groupby([\"Store_type\", \"tran_date\"]).agg({\"Tax\": \"mean\", \"cust_id\": \"count\"})"
   ]
  },
  {
   "cell_type": "code",
   "execution_count": 55,
   "id": "c95631f1",
   "metadata": {},
   "outputs": [
    {
     "name": "stdout",
     "output_type": "stream",
     "text": [
      "                                  Tax                  cust_id\n",
      "                                 mean      max     min   count\n",
      "Store_type     tran_date                                      \n",
      "Flagship store 2011-01-02  169.386000  396.270  41.160       5\n",
      "               2011-01-03  137.497500  233.625  41.370       2\n",
      "               2011-01-04  173.040000  378.000  37.275       6\n",
      "               2011-01-05   93.835000  206.850  30.135       3\n",
      "               2011-01-06  150.535000  280.140  80.325       3\n",
      "...                               ...      ...     ...     ...\n",
      "e-Shop         2014-10-02  204.723750  359.940   9.135       8\n",
      "               2014-11-01  334.385625  707.175  52.080       8\n",
      "               2014-11-02  256.920000  756.000  56.805       7\n",
      "               2014-12-01  131.946818  356.475  15.225      11\n",
      "               2014-12-02  136.791667  391.860   8.190       9\n",
      "\n",
      "[4431 rows x 4 columns]\n"
     ]
    }
   ],
   "source": [
    "df2 = df.groupby([\"Store_type\", \"tran_date\"]).agg({\"Tax\": [\"mean\",\n",
    "                \"max\", \"min\"], \"cust_id\": \"count\"})\n",
    "print (df2)"
   ]
  },
  {
   "cell_type": "markdown",
   "id": "a61db532",
   "metadata": {},
   "source": [
    "# Soal no 3"
   ]
  },
  {
   "cell_type": "code",
   "execution_count": 13,
   "id": "ab059250",
   "metadata": {},
   "outputs": [
    {
     "data": {
      "image/png": "[encoded data removed]",
      "text/plain": [
       "<Figure size 432x288 with 1 Axes>"
      ]
     },
     "metadata": {
      "needs_background": "light"
     },
     "output_type": "display_data"
    },
    {
     "data": {
      "text/plain": [
       "Gender\n",
       "F    2412\n",
       "M    2587\n",
       "Name: transaction_id, dtype: int64"
      ]
     },
     "execution_count": 13,
     "metadata": {},
     "output_type": "execute_result"
    }
   ],
   "source": [
    "byGender = transaction_customer_prod.groupby(by=[\"Gender\"]).count()\n",
    "female = byGender['transaction_id'][0]\n",
    "male =  byGender['transaction_id'][1]\n",
    "\n",
    "fig = plt.figure()\n",
    "ax = fig.add_axes([0,0,1,1])\n",
    "langs = ['Women', 'Men']\n",
    "ax.bar(langs,[female, male], color=['yellow', 'black'])\n",
    "plt.show()\n",
    "byGender['transaction_id']"
   ]
  },
  {
   "cell_type": "markdown",
   "id": "d1799a67",
   "metadata": {},
   "source": [
    "jumlah pelanggan berdasarkan data yang telah ada adalah Women 2412 dan men 2587"
   ]
  },
  {
   "cell_type": "markdown",
   "id": "25f83fe0",
   "metadata": {},
   "source": [
    "# soal no 4"
   ]
  },
  {
   "cell_type": "code",
   "execution_count": 14,
   "id": "5077d156",
   "metadata": {},
   "outputs": [
    {
     "data": {
      "text/plain": [
       "prod_cat  Gender\n",
       "Bags      F         1020\n",
       "          M          970\n",
       "Clothing  F         1392\n",
       "          M         1617\n",
       "Name: transaction_id, dtype: int64"
      ]
     },
     "execution_count": 14,
     "metadata": {},
     "output_type": "execute_result"
    }
   ],
   "source": [
    "byProdCategory = transaction_customer_prod.groupby(by=[\"prod_cat\", \"Gender\"]).count()\n",
    "byProdCategory['transaction_id']"
   ]
  },
  {
   "cell_type": "code",
   "execution_count": 28,
   "id": "f5853cef",
   "metadata": {},
   "outputs": [
    {
     "data": {
      "image/png": "[encoded data removed]",
      "text/plain": [
       "<Figure size 432x288 with 1 Axes>"
      ]
     },
     "metadata": {
      "needs_background": "light"
     },
     "output_type": "display_data"
    }
   ],
   "source": [
    "df = pd.DataFrame([['Female','Bags',byProdCategory['transaction_id'][0]],\n",
    "                   ['Female','Clothing',byProdCategory['transaction_id'][2]],\n",
    "                   ['Male  ','Bags',byProdCategory['transaction_id'][1]],\n",
    "                   ['Male  ','Clothing',byProdCategory['transaction_id'][3]]],\n",
    "                  columns=['group','column','val'])\n",
    "\n",
    "df.pivot(\"column\", \"group\", \"val\").plot(kind='bar')\n",
    "\n",
    "plt.show()"
   ]
  },
  {
   "cell_type": "markdown",
   "id": "3c53e242",
   "metadata": {},
   "source": [
    "product kategori yang paling banyak diminati laki-laki Clothing sebanyak 1617"
   ]
  },
  {
   "cell_type": "markdown",
   "id": "8730ce45",
   "metadata": {},
   "source": [
    "# soal no 5"
   ]
  },
  {
   "cell_type": "code",
   "execution_count": 29,
   "id": "cd6c7bad",
   "metadata": {},
   "outputs": [
    {
     "data": {
      "text/plain": [
       "prod_cat  Gender\n",
       "Bags      F         1020\n",
       "          M          970\n",
       "Clothing  F         1392\n",
       "          M         1617\n",
       "Name: transaction_id, dtype: int64"
      ]
     },
     "execution_count": 29,
     "metadata": {},
     "output_type": "execute_result"
    }
   ],
   "source": [
    "byProdCategory = transaction_customer_prod.groupby(by=[\"prod_cat\", \"Gender\"]).count()\n",
    "byProdCategory['transaction_id']"
   ]
  },
  {
   "cell_type": "code",
   "execution_count": 30,
   "id": "d4371410",
   "metadata": {},
   "outputs": [
    {
     "data": {
      "image/png": "[encoded data removed]",
      "text/plain": [
       "<Figure size 432x288 with 1 Axes>"
      ]
     },
     "metadata": {
      "needs_background": "light"
     },
     "output_type": "display_data"
    }
   ],
   "source": [
    "df = pd.DataFrame([['Female','Bags',byProdCategory['transaction_id'][0]],['Female','Clothing',byProdCategory['transaction_id'][2]],\n",
    "                   ['Male  ','Bags',byProdCategory['transaction_id'][1]],['Male  ','Clothing',byProdCategory['transaction_id'][3]]],columns=['group','column','val'])\n",
    "\n",
    "df.pivot(\"column\", \"group\", \"val\").plot(kind='bar')\n",
    "\n",
    "plt.show()"
   ]
  },
  {
   "cell_type": "markdown",
   "id": "e85e3fb9",
   "metadata": {},
   "source": [
    "product kategori yang paling banyak diminati perempuan Clothing sebanyak 1392"
   ]
  },
  {
   "cell_type": "markdown",
   "id": "c510bccd",
   "metadata": {},
   "source": [
    "# soal no 6"
   ]
  },
  {
   "cell_type": "code",
   "execution_count": 71,
   "id": "b5976949",
   "metadata": {},
   "outputs": [
    {
     "data": {
      "text/plain": [
       "prod_cat  Store_type    \n",
       "Bags      Flagship store     392\n",
       "          MBR                428\n",
       "          TeleShop           394\n",
       "          e-Shop             776\n",
       "Clothing  Flagship store     600\n",
       "          MBR                678\n",
       "          TeleShop           546\n",
       "          e-Shop            1191\n",
       "Name: cust_id, dtype: int64"
      ]
     },
     "execution_count": 71,
     "metadata": {},
     "output_type": "execute_result"
    }
   ],
   "source": [
    "byQty = transaction_customer_prod.groupby(by=[  \"prod_cat\", \"Store_type\"]).count()\n",
    "byQty['cust_id']"
   ]
  },
  {
   "cell_type": "code",
   "execution_count": null,
   "id": "ff0e1ebb",
   "metadata": {},
   "outputs": [],
   "source": []
  },
  {
   "cell_type": "markdown",
   "id": "720e3407",
   "metadata": {},
   "source": [
    "# soal no 7"
   ]
  },
  {
   "cell_type": "code",
   "execution_count": 33,
   "id": "a89398ba",
   "metadata": {},
   "outputs": [
    {
     "data": {
      "text/plain": [
       "month  prod_cat\n",
       "1      Bags        164\n",
       "       Clothing    309\n",
       "2      Bags        158\n",
       "       Clothing    222\n",
       "3      Bags        180\n",
       "       Clothing    252\n",
       "4      Bags        168\n",
       "       Clothing    201\n",
       "5      Bags        164\n",
       "       Clothing    243\n",
       "6      Bags        182\n",
       "       Clothing    225\n",
       "7      Bags        176\n",
       "       Clothing    246\n",
       "8      Bags        156\n",
       "       Clothing    255\n",
       "9      Bags        170\n",
       "       Clothing    252\n",
       "10     Bags        154\n",
       "       Clothing    324\n",
       "11     Bags        168\n",
       "       Clothing    270\n",
       "12     Bags        150\n",
       "       Clothing    216\n",
       "Name: transaction_id, dtype: int64"
      ]
     },
     "execution_count": 33,
     "metadata": {},
     "output_type": "execute_result"
    }
   ],
   "source": [
    "transaction_customer_prod['month'] = pd.DatetimeIndex(transaction_customer_prod['tran_date']).month\n",
    "byDate = transaction_customer_prod.groupby(by=[ \"month\", \"prod_cat\"]).count()\n",
    "byDate[\"transaction_id\"]"
   ]
  },
  {
   "cell_type": "code",
   "execution_count": 35,
   "id": "fb6c9097",
   "metadata": {},
   "outputs": [
    {
     "data": {
      "text/plain": [
       "<AxesSubplot:xlabel='month'>"
      ]
     },
     "execution_count": 35,
     "metadata": {},
     "output_type": "execute_result"
    },
    {
     "data": {
      "image/png": "[encoded data removed]",
      "text/plain": [
       "<Figure size 432x288 with 1 Axes>"
      ]
     },
     "metadata": {
      "needs_background": "light"
     },
     "output_type": "display_data"
    }
   ],
   "source": [
    "byDate[\"transaction_id\"].unstack().plot()"
   ]
  },
  {
   "cell_type": "code",
   "execution_count": 40,
   "id": "51a653a8",
   "metadata": {},
   "outputs": [
    {
     "data": {
      "text/plain": [
       "0       2\n",
       "1       2\n",
       "2       2\n",
       "3       2\n",
       "4       2\n",
       "       ..\n",
       "5000    2\n",
       "5001    2\n",
       "5002    2\n",
       "5003    1\n",
       "5004    1\n",
       "Name: month, Length: 5005, dtype: int64"
      ]
     },
     "execution_count": 40,
     "metadata": {},
     "output_type": "execute_result"
    }
   ],
   "source": [
    "transaction_customer_prod['month'] \n"
   ]
  },
  {
   "cell_type": "code",
   "execution_count": 41,
   "id": "00e8d29a",
   "metadata": {},
   "outputs": [
    {
     "data": {
      "text/plain": [
       "Int64Index([ 2,  2,  2,  2,  2,  2, 12, 12, 12,  8,\n",
       "            ...\n",
       "             9,  9,  3,  3,  2,  2,  2,  2,  1,  1],\n",
       "           dtype='int64', name='tran_date', length=5005)"
      ]
     },
     "execution_count": 41,
     "metadata": {},
     "output_type": "execute_result"
    }
   ],
   "source": [
    "pd.DatetimeIndex(transaction_customer_prod['tran_date']).month"
   ]
  },
  {
   "cell_type": "code",
   "execution_count": null,
   "id": "4c0905d9",
   "metadata": {},
   "outputs": [],
   "source": []
  }
 ],
 "metadata": {
  "kernelspec": {
   "display_name": "Python 3",
   "language": "python",
   "name": "python3"
  },
  "language_info": {
   "codemirror_mode": {
    "name": "ipython",
    "version": 3
   },
   "file_extension": ".py",
   "mimetype": "text/x-python",
   "name": "python",
   "nbconvert_exporter": "python",
   "pygments_lexer": "ipython3",
   "version": "3.8.8"
  }
 },
 "nbformat": 4,
 "nbformat_minor": 5
}
